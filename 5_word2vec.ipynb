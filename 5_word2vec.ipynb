{
 "cells": [
  {
   "cell_type": "markdown",
   "metadata": {
    "colab_type": "text",
    "id": "D7tqLMoKF6uq"
   },
   "source": [
    "Deep Learning\n",
    "=============\n",
    "\n",
    "Assignment 5\n",
    "------------\n",
    "\n",
    "The goal of this assignment is to train a Word2Vec skip-gram model over [Text8](http://mattmahoney.net/dc/textdata) data."
   ]
  },
  {
   "cell_type": "code",
   "execution_count": 11,
   "metadata": {
    "cellView": "both",
    "colab": {
     "autoexec": {
      "startup": false,
      "wait_interval": 0
     }
    },
    "colab_type": "code",
    "collapsed": true,
    "id": "0K1ZyLn04QZf"
   },
   "outputs": [],
   "source": [
    "# These are all the modules we'll be using later. Make sure you can import them\n",
    "# before proceeding further.\n",
    "%matplotlib inline\n",
    "from __future__ import print_function\n",
    "import collections\n",
    "import math\n",
    "import numpy as np\n",
    "import os\n",
    "import random\n",
    "import tensorflow as tf\n",
    "import zipfile\n",
    "from matplotlib import pylab\n",
    "from six.moves import range\n",
    "from six.moves.urllib.request import urlretrieve\n",
    "from sklearn.manifold import TSNE"
   ]
  },
  {
   "cell_type": "markdown",
   "metadata": {
    "colab_type": "text",
    "id": "aCjPJE944bkV"
   },
   "source": [
    "Download the data from the source website if necessary."
   ]
  },
  {
   "cell_type": "code",
   "execution_count": 8,
   "metadata": {
    "cellView": "both",
    "colab": {
     "autoexec": {
      "startup": false,
      "wait_interval": 0
     },
     "output_extras": [
      {
       "item_id": 1
      }
     ]
    },
    "colab_type": "code",
    "collapsed": false,
    "executionInfo": {
     "elapsed": 14640,
     "status": "ok",
     "timestamp": 1445964482948,
     "user": {
      "color": "#1FA15D",
      "displayName": "Vincent Vanhoucke",
      "isAnonymous": false,
      "isMe": true,
      "permissionId": "05076109866853157986",
      "photoUrl": "//lh6.googleusercontent.com/-cCJa7dTDcgQ/AAAAAAAAAAI/AAAAAAAACgw/r2EZ_8oYer4/s50-c-k-no/photo.jpg",
      "sessionId": "2f1ffade4c9f20de",
      "userId": "102167687554210253930"
     },
     "user_tz": 420
    },
    "id": "RJ-o3UBUFtCw",
    "outputId": "c4ec222c-80b5-4298-e635-93ca9f79c3b7"
   },
   "outputs": [
    {
     "name": "stdout",
     "output_type": "stream",
     "text": [
      "Found and verified text8.zip\n"
     ]
    }
   ],
   "source": [
    "url = 'http://mattmahoney.net/dc/'\n",
    "\n",
    "def maybe_download(filename, expected_bytes):\n",
    "    \"\"\"Download a file if not present, and make sure it's the right size.\"\"\"\n",
    "    if not os.path.exists(filename):\n",
    "        filename, _ = urlretrieve(url + filename, filename)\n",
    "    statinfo = os.stat(filename)\n",
    "    if statinfo.st_size == expected_bytes:\n",
    "        print('Found and verified %s' % filename)\n",
    "    else:\n",
    "        print(statinfo.st_size)\n",
    "        raise Exception(\n",
    "            'Failed to verify ' + filename + '. Can you get to it with a browser?')\n",
    "    return filename\n",
    "\n",
    "filename = maybe_download('text8.zip', 31344016)"
   ]
  },
  {
   "cell_type": "markdown",
   "metadata": {
    "colab_type": "text",
    "id": "Zqz3XiqI4mZT"
   },
   "source": [
    "Read the data into a string."
   ]
  },
  {
   "cell_type": "code",
   "execution_count": 9,
   "metadata": {
    "cellView": "both",
    "colab": {
     "autoexec": {
      "startup": false,
      "wait_interval": 0
     },
     "output_extras": [
      {
       "item_id": 1
      }
     ]
    },
    "colab_type": "code",
    "collapsed": false,
    "executionInfo": {
     "elapsed": 28844,
     "status": "ok",
     "timestamp": 1445964497165,
     "user": {
      "color": "#1FA15D",
      "displayName": "Vincent Vanhoucke",
      "isAnonymous": false,
      "isMe": true,
      "permissionId": "05076109866853157986",
      "photoUrl": "//lh6.googleusercontent.com/-cCJa7dTDcgQ/AAAAAAAAAAI/AAAAAAAACgw/r2EZ_8oYer4/s50-c-k-no/photo.jpg",
      "sessionId": "2f1ffade4c9f20de",
      "userId": "102167687554210253930"
     },
     "user_tz": 420
    },
    "id": "Mvf09fjugFU_",
    "outputId": "e3a928b4-1645-4fe8-be17-fcf47de5716d"
   },
   "outputs": [
    {
     "name": "stdout",
     "output_type": "stream",
     "text": [
      "Data size 17005207\n"
     ]
    }
   ],
   "source": [
    "def read_data(filename):\n",
    "    \"\"\"Extract the first file enclosed in a zip file as a list of words\"\"\"\n",
    "    with zipfile.ZipFile(filename) as f:\n",
    "        data = tf.compat.as_str(f.read(f.namelist()[0])).split()\n",
    "    return data\n",
    "    \n",
    "words = read_data(filename)\n",
    "print('Data size %d' % len(words))"
   ]
  },
  {
   "cell_type": "markdown",
   "metadata": {
    "colab_type": "text",
    "id": "Zdw6i4F8glpp"
   },
   "source": [
    "Build the dictionary and replace rare words with UNK token."
   ]
  },
  {
   "cell_type": "code",
   "execution_count": 10,
   "metadata": {
    "cellView": "both",
    "colab": {
     "autoexec": {
      "startup": false,
      "wait_interval": 0
     },
     "output_extras": [
      {
       "item_id": 1
      }
     ]
    },
    "colab_type": "code",
    "collapsed": false,
    "executionInfo": {
     "elapsed": 28849,
     "status": "ok",
     "timestamp": 1445964497178,
     "user": {
      "color": "#1FA15D",
      "displayName": "Vincent Vanhoucke",
      "isAnonymous": false,
      "isMe": true,
      "permissionId": "05076109866853157986",
      "photoUrl": "//lh6.googleusercontent.com/-cCJa7dTDcgQ/AAAAAAAAAAI/AAAAAAAACgw/r2EZ_8oYer4/s50-c-k-no/photo.jpg",
      "sessionId": "2f1ffade4c9f20de",
      "userId": "102167687554210253930"
     },
     "user_tz": 420
    },
    "id": "gAL1EECXeZsD",
    "outputId": "3fb4ecd1-df67-44b6-a2dc-2291730970b2"
   },
   "outputs": [
    {
     "name": "stdout",
     "output_type": "stream",
     "text": [
      "Most common words (+UNK) [['UNK', 418391], ('the', 1061396), ('of', 593677), ('and', 416629), ('one', 411764)]\n",
      "Sample data [5239, 3084, 12, 6, 195, 2, 3137, 46, 59, 156]\n"
     ]
    }
   ],
   "source": [
    "vocabulary_size = 50000\n",
    "\n",
    "def build_dataset(words):\n",
    "    count = [['UNK', -1]]\n",
    "    count.extend(collections.Counter(words).most_common(vocabulary_size - 1))\n",
    "    dictionary = dict()\n",
    "    for word, _ in count:\n",
    "        dictionary[word] = len(dictionary)\n",
    "    data = list()\n",
    "    unk_count = 0\n",
    "    for word in words:\n",
    "        if word in dictionary:\n",
    "            index = dictionary[word]\n",
    "        else:\n",
    "            index = 0    # dictionary['UNK']\n",
    "            unk_count = unk_count + 1\n",
    "        data.append(index)\n",
    "    count[0][1] = unk_count\n",
    "    reverse_dictionary = dict(zip(dictionary.values(), dictionary.keys())) \n",
    "    return data, count, dictionary, reverse_dictionary\n",
    "\n",
    "data, count, dictionary, reverse_dictionary = build_dataset(words)\n",
    "print('Most common words (+UNK)', count[:5])\n",
    "print('Sample data', data[:10])\n",
    "del words    # Hint to reduce memory."
   ]
  },
  {
   "cell_type": "markdown",
   "metadata": {
    "colab_type": "text",
    "id": "lFwoyygOmWsL"
   },
   "source": [
    "Function to generate a training batch for the skip-gram model."
   ]
  },
  {
   "cell_type": "code",
   "execution_count": 12,
   "metadata": {
    "cellView": "both",
    "colab": {
     "autoexec": {
      "startup": false,
      "wait_interval": 0
     },
     "output_extras": [
      {
       "item_id": 1
      }
     ]
    },
    "colab_type": "code",
    "collapsed": false,
    "executionInfo": {
     "elapsed": 113,
     "status": "ok",
     "timestamp": 1445964901989,
     "user": {
      "color": "#1FA15D",
      "displayName": "Vincent Vanhoucke",
      "isAnonymous": false,
      "isMe": true,
      "permissionId": "05076109866853157986",
      "photoUrl": "//lh6.googleusercontent.com/-cCJa7dTDcgQ/AAAAAAAAAAI/AAAAAAAACgw/r2EZ_8oYer4/s50-c-k-no/photo.jpg",
      "sessionId": "2f1ffade4c9f20de",
      "userId": "102167687554210253930"
     },
     "user_tz": 420
    },
    "id": "w9APjA-zmfjV",
    "outputId": "67cccb02-cdaf-4e47-d489-43bcc8d57bb8"
   },
   "outputs": [
    {
     "name": "stdout",
     "output_type": "stream",
     "text": [
      "data: ['anarchism', 'originated', 'as', 'a', 'term', 'of', 'abuse', 'first']\n",
      "\n",
      "with num_skips = 2 and skip_window = 1:\n",
      "        batch: ['originated', 'originated', 'as', 'as', 'a', 'a', 'term', 'term']\n",
      "        labels: ['as', 'anarchism', 'a', 'originated', 'as', 'term', 'of', 'a']\n",
      "\n",
      "with num_skips = 4 and skip_window = 2:\n",
      "        batch: ['as', 'as', 'as', 'as', 'a', 'a', 'a', 'a']\n",
      "        labels: ['term', 'a', 'anarchism', 'originated', 'originated', 'of', 'term', 'as']\n"
     ]
    }
   ],
   "source": [
    "data_index = 0\n",
    "\n",
    "def generate_batch(batch_size, num_skips, skip_window):\n",
    "    global data_index\n",
    "    assert batch_size % num_skips == 0\n",
    "    assert num_skips <= 2 * skip_window\n",
    "    batch = np.ndarray(shape=(batch_size), dtype=np.int32)\n",
    "    labels = np.ndarray(shape=(batch_size, 1), dtype=np.int32)\n",
    "    span = 2 * skip_window + 1 # [ skip_window target skip_window ]\n",
    "    buffer = collections.deque(maxlen=span)\n",
    "    for _ in range(span):\n",
    "        buffer.append(data[data_index])\n",
    "        data_index = (data_index + 1) % len(data)\n",
    "    for i in range(batch_size // num_skips):\n",
    "        target = skip_window    # target label at the center of the buffer\n",
    "        targets_to_avoid = [ skip_window ]\n",
    "        for j in range(num_skips):\n",
    "            while target in targets_to_avoid:\n",
    "                target = random.randint(0, span - 1)\n",
    "            targets_to_avoid.append(target)\n",
    "            batch[i * num_skips + j] = buffer[skip_window]\n",
    "            labels[i * num_skips + j, 0] = buffer[target]\n",
    "        buffer.append(data[data_index])\n",
    "        data_index = (data_index + 1) % len(data)\n",
    "    return batch, labels\n",
    "\n",
    "print('data:', [reverse_dictionary[di] for di in data[:8]])\n",
    "\n",
    "for num_skips, skip_window in [(2, 1), (4, 2)]:\n",
    "        data_index = 0\n",
    "        batch, labels = generate_batch(batch_size=8, num_skips=num_skips, skip_window=skip_window)\n",
    "        print('\\nwith num_skips = %d and skip_window = %d:' % (num_skips, skip_window))\n",
    "        print('        batch:', [reverse_dictionary[bi] for bi in batch])\n",
    "        print('        labels:', [reverse_dictionary[li] for li in labels.reshape(8)])"
   ]
  },
  {
   "cell_type": "markdown",
   "metadata": {
    "colab_type": "text",
    "id": "Ofd1MbBuwiva"
   },
   "source": [
    "Train a skip-gram model."
   ]
  },
  {
   "cell_type": "code",
   "execution_count": 13,
   "metadata": {
    "cellView": "both",
    "colab": {
     "autoexec": {
      "startup": false,
      "wait_interval": 0
     }
    },
    "colab_type": "code",
    "collapsed": true,
    "id": "8pQKsV4Vwlzy"
   },
   "outputs": [],
   "source": [
    "batch_size = 128\n",
    "embedding_size = 128 # Dimension of the embedding vector.\n",
    "skip_window = 1 # How many words to consider left and right.\n",
    "num_skips = 2 # How many times to reuse an input to generate a label.\n",
    "# We pick a random validation set to sample nearest neighbors. here we limit the\n",
    "# validation samples to the words that have a low numeric ID, which by\n",
    "# construction are also the most frequent. \n",
    "valid_size = 16 # Random set of words to evaluate similarity on.\n",
    "valid_window = 100 # Only pick dev samples in the head of the distribution.\n",
    "valid_examples = np.array(random.sample(range(valid_window), valid_size))\n",
    "num_sampled = 64 # Number of negative examples to sample.\n",
    "\n",
    "graph = tf.Graph()\n",
    "\n",
    "with graph.as_default(), tf.device('/cpu:0'):\n",
    "\n",
    "    # Input data.\n",
    "    train_dataset = tf.placeholder(tf.int32, shape=[batch_size])\n",
    "    train_labels = tf.placeholder(tf.int32, shape=[batch_size, 1])\n",
    "    valid_dataset = tf.constant(valid_examples, dtype=tf.int32)\n",
    "    \n",
    "    # Variables.\n",
    "    embeddings = tf.Variable(\n",
    "        tf.random_uniform([vocabulary_size, embedding_size], -1.0, 1.0))\n",
    "    softmax_weights = tf.Variable(\n",
    "        tf.truncated_normal([vocabulary_size, embedding_size],\n",
    "                                                 stddev=1.0 / math.sqrt(embedding_size)))\n",
    "    softmax_biases = tf.Variable(tf.zeros([vocabulary_size]))\n",
    "    \n",
    "    # Model.\n",
    "    # Look up embeddings for inputs.\n",
    "    embed = tf.nn.embedding_lookup(embeddings, train_dataset)\n",
    "    # Compute the softmax loss, using a sample of the negative labels each time.\n",
    "    loss = tf.reduce_mean(\n",
    "        tf.nn.sampled_softmax_loss(weights=softmax_weights, biases=softmax_biases, inputs=embed,\n",
    "                                                             labels=train_labels, num_sampled=num_sampled, num_classes=vocabulary_size))\n",
    "\n",
    "    # Optimizer.\n",
    "    # Note: The optimizer will optimize the softmax_weights AND the embeddings.\n",
    "    # This is because the embeddings are defined as a variable quantity and the\n",
    "    # optimizer's `minimize` method will by default modify all variable quantities \n",
    "    # that contribute to the tensor it is passed.\n",
    "    # See docs on `tf.train.Optimizer.minimize()` for more details.\n",
    "    optimizer = tf.train.AdagradOptimizer(1.0).minimize(loss)\n",
    "    \n",
    "    # Compute the similarity between minibatch examples and all embeddings.\n",
    "    # We use the cosine distance:\n",
    "    norm = tf.sqrt(tf.reduce_sum(tf.square(embeddings), 1, keep_dims=True))\n",
    "    normalized_embeddings = embeddings / norm\n",
    "    valid_embeddings = tf.nn.embedding_lookup(\n",
    "        normalized_embeddings, valid_dataset)\n",
    "    similarity = tf.matmul(valid_embeddings, tf.transpose(normalized_embeddings))"
   ]
  },
  {
   "cell_type": "code",
   "execution_count": 15,
   "metadata": {
    "cellView": "both",
    "colab": {
     "autoexec": {
      "startup": false,
      "wait_interval": 0
     },
     "output_extras": [
      {
       "item_id": 23
      },
      {
       "item_id": 48
      },
      {
       "item_id": 61
      }
     ]
    },
    "colab_type": "code",
    "collapsed": false,
    "executionInfo": {
     "elapsed": 436189,
     "status": "ok",
     "timestamp": 1445965429787,
     "user": {
      "color": "#1FA15D",
      "displayName": "Vincent Vanhoucke",
      "isAnonymous": false,
      "isMe": true,
      "permissionId": "05076109866853157986",
      "photoUrl": "//lh6.googleusercontent.com/-cCJa7dTDcgQ/AAAAAAAAAAI/AAAAAAAACgw/r2EZ_8oYer4/s50-c-k-no/photo.jpg",
      "sessionId": "2f1ffade4c9f20de",
      "userId": "102167687554210253930"
     },
     "user_tz": 420
    },
    "id": "1bQFGceBxrWW",
    "outputId": "5ebd6d9a-33c6-4bcd-bf6d-252b0b6055e4"
   },
   "outputs": [
    {
     "name": "stdout",
     "output_type": "stream",
     "text": [
      "Initialized\n",
      "Average loss at step 0: 8.420788\n",
      "Nearest to or: monosyllabic, bradbury, expansion, daytime, zaman, alcindor, pla, forty,\n",
      "Nearest to after: influencing, islamists, sports, severan, layout, privateers, conduit, forearms,\n",
      "Nearest to it: vanilla, affected, haka, trolling, drafts, dives, implosive, ushering,\n",
      "Nearest to if: shortest, sultanate, ministerial, sensational, jeep, withholding, men, resale,\n",
      "Nearest to into: pretentious, slender, gamsakhurdia, bbl, tashkent, lucas, thence, tempo,\n",
      "Nearest to may: latinus, persuade, tsunamis, ceramic, consoles, recording, documentaries, tilbury,\n",
      "Nearest to in: liberalize, soar, venizelos, dungeon, pall, selection, anton, peckinpah,\n",
      "Nearest to history: compound, nijmegen, filters, meditative, justifiable, infiltrate, reindeer, iss,\n",
      "Nearest to their: modules, president, torrents, recognized, pleasing, veneer, bound, adriatic,\n",
      "Nearest to when: kilt, falsetto, absentee, aardvark, protestors, mechanism, dijon, mnp,\n",
      "Nearest to they: elaborated, fads, matti, miniaturized, camouflage, din, mommy, topol,\n",
      "Nearest to and: bayonne, requirements, serviced, valpara, court, uni, charmed, noodles,\n",
      "Nearest to who: mindful, transhumanism, jiao, sseldorf, uni, carps, putin, magi,\n",
      "Nearest to two: uncircumcised, crockett, harmless, anhui, vitae, quadriceps, lusitanian, remarried,\n",
      "Nearest to united: palatable, hunted, lancelot, bestowing, deprogrammers, playoffs, only, anglorum,\n",
      "Nearest to an: atchison, promontory, suffrage, olanzapine, humane, guderian, hale, wrestlers,\n",
      "Average loss at step 2000: 4.362883\n",
      "Average loss at step 4000: 3.865269\n",
      "Average loss at step 6000: 3.787000\n",
      "Average loss at step 8000: 3.691277\n",
      "Average loss at step 10000: 3.613035\n",
      "Nearest to or: and, upheavals, helpers, academia, without, turin, geographical, chapultepec,\n",
      "Nearest to after: for, before, psychoactive, influencing, sports, severan, islamists, existentialism,\n",
      "Nearest to it: he, this, she, there, which, they, we, no,\n",
      "Nearest to if: legionaries, ministerial, sultanate, hello, jeep, botswana, need, withholding,\n",
      "Nearest to into: pretentious, to, in, jehoshaphat, vectorborne, booksellers, mack, riffing,\n",
      "Nearest to may: could, can, ceramic, consoles, latinus, would, arenas, maneuvering,\n",
      "Nearest to in: of, on, with, at, against, for, from, and,\n",
      "Nearest to history: parts, togo, reinsurance, dru, state, bhfuil, filters, keralite,\n",
      "Nearest to their: his, modules, its, the, her, recognized, lili, clipper,\n",
      "Nearest to when: mauretania, officers, dijon, wrote, kilt, maclachlan, convinces, falsetto,\n",
      "Nearest to they: he, there, we, it, who, not, these, she,\n",
      "Nearest to and: or, bbses, trek, impartial, in, s, noodles, durr,\n",
      "Nearest to who: he, often, which, specialized, they, already, jiao, zebulun,\n",
      "Nearest to two: five, four, three, six, eight, nine, one, seven,\n",
      "Nearest to united: playoffs, palatable, hunted, lyne, kludge, anglorum, bestowing, leftrightarrow,\n",
      "Nearest to an: the, olanzapine, famicom, suffrage, another, occultism, commodus, recommendations,\n",
      "Average loss at step 12000: 3.607247\n",
      "Average loss at step 14000: 3.571044\n",
      "Average loss at step 16000: 3.409517\n",
      "Average loss at step 18000: 3.459782\n",
      "Average loss at step 20000: 3.540695\n",
      "Nearest to or: and, than, with, helpers, geyser, elastic, upheavals, outbound,\n",
      "Nearest to after: before, for, while, during, in, lucia, at, psychoactive,\n",
      "Nearest to it: he, there, this, she, which, they, we, not,\n",
      "Nearest to if: legionaries, sultanate, need, when, hello, ministerial, botswana, withholding,\n",
      "Nearest to into: from, friendly, vectorborne, against, ethical, mack, pretentious, leonidas,\n",
      "Nearest to may: can, would, could, will, might, should, must, niklaus,\n",
      "Nearest to in: at, from, on, during, and, with, by, through,\n",
      "Nearest to history: parts, keralite, state, test, togo, dru, contrastive, methyl,\n",
      "Nearest to their: its, his, her, modules, the, carew, these, widest,\n",
      "Nearest to when: but, impressionists, convinces, since, dijon, where, waco, quasars,\n",
      "Nearest to they: he, we, there, she, it, who, these, you,\n",
      "Nearest to and: or, from, in, but, cheats, while, of, at,\n",
      "Nearest to who: he, which, often, also, already, zebulun, they, cosmology,\n",
      "Nearest to two: four, three, five, six, seven, eight, one, zero,\n",
      "Nearest to united: hunted, lyne, kludge, palatable, playoffs, pergamon, nevis, modernised,\n",
      "Nearest to an: the, famicom, nullify, suffrage, another, academie, olanzapine, citigroup,\n",
      "Average loss at step 22000: 3.500685\n",
      "Average loss at step 24000: 3.493203\n",
      "Average loss at step 26000: 3.481712\n",
      "Average loss at step 28000: 3.481219\n",
      "Average loss at step 30000: 3.506705\n",
      "Nearest to or: and, forecasts, without, perpendicularly, lyrically, reservoirs, tooth, than,\n",
      "Nearest to after: before, during, when, for, while, distasteful, lucia, declines,\n",
      "Nearest to it: he, there, she, this, they, which, also, who,\n",
      "Nearest to if: when, sultanate, ministerial, can, remotely, need, withholding, although,\n",
      "Nearest to into: from, friendly, ethical, vectorborne, against, with, mack, under,\n",
      "Nearest to may: can, would, could, will, might, should, must, cannot,\n",
      "Nearest to in: at, during, on, of, from, with, under, between,\n",
      "Nearest to history: parts, dru, version, keralite, methyl, state, immutable, list,\n",
      "Nearest to their: its, his, her, the, these, modules, some, carew,\n",
      "Nearest to when: if, where, but, before, convinces, after, was, impressionists,\n",
      "Nearest to they: there, we, he, it, these, she, you, who,\n",
      "Nearest to and: or, cheats, in, vengeful, who, segmented, but, from,\n",
      "Nearest to who: he, which, often, already, they, she, also, zebulun,\n",
      "Nearest to two: four, three, one, five, seven, eight, six, nine,\n",
      "Nearest to united: pergamon, hunted, kludge, lyne, palatable, doctrinal, modernised, lessing,\n",
      "Nearest to an: hispaniola, suffrage, another, ohms, commodus, famicom, fullest, iguana,\n",
      "Average loss at step 32000: 3.498926\n",
      "Average loss at step 34000: 3.494468\n",
      "Average loss at step 36000: 3.455198\n",
      "Average loss at step 38000: 3.302157\n",
      "Average loss at step 40000: 3.433959\n",
      "Nearest to or: and, than, a, without, helpers, adjoined, upheavals, bootable,\n",
      "Nearest to after: before, during, when, while, hovering, centimeters, from, for,\n",
      "Nearest to it: he, she, there, they, this, which, but, still,\n",
      "Nearest to if: when, is, where, ministerial, remotely, need, for, sultanate,\n",
      "Nearest to into: from, up, friendly, ethical, vectorborne, around, gtpase, hab,\n",
      "Nearest to may: can, would, will, could, should, might, must, cannot,\n",
      "Nearest to in: and, of, at, on, from, during, andamanese, since,\n",
      "Nearest to history: list, crops, violations, immutable, keralite, pigeon, dru, disrespectful,\n",
      "Nearest to their: its, his, her, the, these, modules, magnetron, my,\n",
      "Nearest to when: convinces, if, where, before, while, since, impressionists, after,\n",
      "Nearest to they: we, there, he, you, it, she, these, who,\n",
      "Nearest to and: or, but, in, magdalen, abdul, adjoining, repay, like,\n",
      "Nearest to who: he, often, which, they, she, already, also, still,\n",
      "Nearest to two: four, three, five, six, seven, eight, one, nine,\n",
      "Nearest to united: hunted, pergamon, kludge, modernised, doctrinal, foot, heavens, stationery,\n",
      "Nearest to an: another, academie, iguana, suffrage, ohms, tandem, olanzapine, occultism,\n",
      "Average loss at step 42000: 3.434676\n",
      "Average loss at step 44000: 3.454047\n",
      "Average loss at step 46000: 3.452362\n",
      "Average loss at step 48000: 3.352365\n",
      "Average loss at step 50000: 3.382804\n",
      "Nearest to or: and, than, without, helpers, subtrees, outbound, buckle, but,\n",
      "Nearest to after: before, during, when, while, though, for, from, until,\n",
      "Nearest to it: he, there, she, they, this, now, still, then,\n",
      "Nearest to if: when, although, where, need, before, remotely, caspase, yacc,\n",
      "Nearest to into: through, from, friendly, vectorborne, ethical, archival, around, mack,\n",
      "Nearest to may: can, would, could, will, should, might, must, cannot,\n",
      "Nearest to in: during, within, on, since, between, throughout, including, of,\n",
      "Nearest to history: list, violations, pigeon, immutable, yury, society, coretta, numeral,\n",
      "Nearest to their: its, his, her, the, these, any, widest, both,\n",
      "Nearest to when: if, while, after, where, however, before, convinces, though,\n",
      "Nearest to they: we, he, there, you, she, it, who, not,\n",
      "Nearest to and: or, but, magdalen, while, however, subdivide, including, abdul,\n",
      "Nearest to who: he, which, they, she, often, there, weil, zebulun,\n",
      "Nearest to two: three, four, six, one, five, seven, eight, zero,\n",
      "Nearest to united: pergamon, kludge, modernised, hunted, heavens, foot, stationery, lessing,\n",
      "Nearest to an: the, another, nullify, hispaniola, uri, olanzapine, academie, volkssturm,\n",
      "Average loss at step 52000: 3.435379\n",
      "Average loss at step 54000: 3.426169\n",
      "Average loss at step 56000: 3.440484\n",
      "Average loss at step 58000: 3.395579\n",
      "Average loss at step 60000: 3.392582\n",
      "Nearest to or: and, blacklist, than, outbound, without, but, whistler, omphalos,\n",
      "Nearest to after: before, during, when, while, although, though, despite, until,\n",
      "Nearest to it: he, there, she, this, which, still, they, what,\n",
      "Nearest to if: when, where, although, before, though, without, so, because,\n",
      "Nearest to into: through, from, friendly, within, around, in, vectorborne, ethical,\n",
      "Nearest to may: can, would, will, could, should, might, must, cannot,\n",
      "Nearest to in: during, within, of, including, since, on, among, with,\n",
      "Nearest to history: list, philosophy, development, dru, politics, life, synchronised, society,\n",
      "Nearest to their: its, his, her, the, your, our, modules, these,\n",
      "Nearest to when: if, while, where, before, after, although, convinces, though,\n",
      "Nearest to they: we, there, he, you, she, it, would, unary,\n",
      "Nearest to and: or, but, than, magdalen, including, while, abdul, like,\n",
      "Nearest to who: which, he, she, often, still, that, now, already,\n",
      "Nearest to two: four, three, one, five, six, seven, eight, zero,\n",
      "Nearest to united: constitution, pergamon, heavens, modernised, hunted, kludge, nit, foot,\n",
      "Nearest to an: uri, zapotec, another, ohms, slr, commodus, hispaniola, iguana,\n",
      "Average loss at step 62000: 3.241596\n",
      "Average loss at step 64000: 3.256722\n",
      "Average loss at step 66000: 3.403823\n",
      "Average loss at step 68000: 3.392792\n",
      "Average loss at step 70000: 3.359321\n",
      "Nearest to or: and, than, outbound, landmine, the, but, blacklist, theist,\n",
      "Nearest to after: before, during, when, though, while, until, despite, lucia,\n",
      "Nearest to it: he, she, there, this, they, still, zalta, itself,\n",
      "Nearest to if: when, where, before, although, though, however, need, for,\n",
      "Nearest to into: through, from, within, around, in, friendly, off, nests,\n",
      "Nearest to may: can, would, could, will, should, might, must, cannot,\n",
      "Nearest to in: within, during, until, from, for, including, on, with,\n",
      "Nearest to history: list, synchronised, philosophy, dru, rubble, northwestern, yury, book,\n",
      "Nearest to their: its, his, her, the, our, these, your, my,\n",
      "Nearest to when: if, where, before, while, after, though, convinces, was,\n",
      "Nearest to they: we, there, he, you, she, it, i, these,\n",
      "Nearest to and: or, but, while, of, magdalen, which, governorates, socio,\n",
      "Nearest to who: he, she, still, mersenne, wads, they, djvu, axles,\n",
      "Nearest to two: three, four, six, five, seven, one, eight, zero,\n",
      "Nearest to united: constitution, heavens, pergamon, modernised, reprisal, kludge, duplicating, nit,\n",
      "Nearest to an: slr, coffey, another, academie, olanzapine, broome, eschew, iguana,\n",
      "Average loss at step 72000: 3.376987\n",
      "Average loss at step 74000: 3.350448\n",
      "Average loss at step 76000: 3.317707\n",
      "Average loss at step 78000: 3.347743\n",
      "Average loss at step 80000: 3.376059\n",
      "Nearest to or: and, than, while, without, blacklist, bootable, outbound, tabloid,\n",
      "Nearest to after: before, during, when, while, though, until, despite, in,\n",
      "Nearest to it: he, she, there, this, they, itself, still, none,\n",
      "Nearest to if: when, before, though, where, although, need, because, eia,\n",
      "Nearest to into: through, from, within, friendly, off, around, up, ethical,\n",
      "Nearest to may: can, could, would, will, must, might, should, cannot,\n",
      "Nearest to in: during, within, until, on, since, under, at, from,\n",
      "Nearest to history: list, synchronised, pigeon, dru, jdk, yury, rideau, rubble,\n",
      "Nearest to their: its, his, her, our, your, my, the, these,\n",
      "Nearest to when: before, if, after, though, where, while, during, although,\n",
      "Nearest to they: we, he, you, there, she, it, i, unary,\n",
      "Nearest to and: or, but, while, successive, dsm, when, governorates, inextricably,\n",
      "Nearest to who: he, still, she, often, they, now, actually, masala,\n",
      "Nearest to two: three, four, six, five, seven, one, eight, zero,\n",
      "Nearest to united: constitution, heavens, pergamon, reprisal, freighters, modernised, homebrew, nit,\n",
      "Nearest to an: iguana, occultism, uri, hispaniola, volkssturm, olanzapine, ridden, ohms,\n",
      "Average loss at step 82000: 3.408019\n",
      "Average loss at step 84000: 3.412080\n",
      "Average loss at step 86000: 3.389948\n",
      "Average loss at step 88000: 3.355967\n",
      "Average loss at step 90000: 3.364533\n",
      "Nearest to or: and, than, while, without, though, bmp, outbound, sdtv,\n",
      "Nearest to after: before, during, when, while, until, despite, though, without,\n",
      "Nearest to it: he, she, there, they, this, itself, effectively, therefore,\n",
      "Nearest to if: when, where, before, although, though, since, so, until,\n",
      "Nearest to into: through, from, within, around, off, under, onto, using,\n",
      "Nearest to may: can, could, would, should, might, must, will, cannot,\n",
      "Nearest to in: within, during, under, of, until, with, toward, around,\n",
      "Nearest to history: list, yury, study, synchronised, pigeon, expansionism, jdk, philosophy,\n",
      "Nearest to their: its, his, her, your, our, whose, my, the,\n",
      "Nearest to when: if, before, where, after, while, though, until, during,\n",
      "Nearest to they: we, he, there, you, she, it, but, these,\n",
      "Nearest to and: or, but, while, however, magdalen, including, bbses, with,\n",
      "Nearest to who: he, often, still, she, which, already, masala, also,\n",
      "Nearest to two: three, six, four, five, one, eight, seven, zero,\n",
      "Nearest to united: constitution, heavens, nit, raions, modernised, pergamon, unschooling, lightness,\n",
      "Nearest to an: another, uri, occultism, slr, iguana, hale, rathdown, tandem,\n",
      "Average loss at step 92000: 3.396610\n",
      "Average loss at step 94000: 3.252405\n",
      "Average loss at step 96000: 3.356783\n",
      "Average loss at step 98000: 3.243111\n",
      "Average loss at step 100000: 3.361567\n",
      "Nearest to or: and, than, without, outbound, quirky, vs, undergoes, cowdery,\n",
      "Nearest to after: before, during, when, despite, while, until, though, although,\n",
      "Nearest to it: he, she, this, there, they, what, never, itself,\n",
      "Nearest to if: when, where, though, before, although, until, while, without,\n",
      "Nearest to into: through, within, from, off, around, under, between, using,\n",
      "Nearest to may: can, could, should, might, would, must, will, cannot,\n",
      "Nearest to in: within, during, on, throughout, from, at, near, until,\n",
      "Nearest to history: list, pigeon, rubble, antidisestablishmentarianism, rideau, chlorides, expansionism, anonymously,\n",
      "Nearest to their: its, his, her, your, our, the, these, sharif,\n",
      "Nearest to when: if, while, before, after, where, although, though, during,\n",
      "Nearest to they: we, he, there, you, she, it, i, these,\n",
      "Nearest to and: or, but, assailant, while, when, including, carmichael, although,\n",
      "Nearest to who: he, she, already, actually, still, never, often, which,\n",
      "Nearest to two: four, five, three, six, seven, eight, one, mhz,\n",
      "Nearest to united: constitution, heavens, nit, raions, lessing, homebrew, kludge, unschooling,\n",
      "Nearest to an: another, iguana, volkssturm, uri, lactantius, hispaniola, ohms, olanzapine,\n"
     ]
    }
   ],
   "source": [
    "num_steps = 100001\n",
    "\n",
    "with tf.Session(graph=graph) as session:\n",
    "    tf.initialize_all_variables().run()\n",
    "    print('Initialized')\n",
    "    average_loss = 0\n",
    "    for step in range(num_steps):\n",
    "        batch_data, batch_labels = generate_batch(\n",
    "            batch_size, num_skips, skip_window)\n",
    "        feed_dict = {train_dataset : batch_data, train_labels : batch_labels}\n",
    "        _, l = session.run([optimizer, loss], feed_dict=feed_dict)\n",
    "        average_loss += l\n",
    "        if step % 2000 == 0:\n",
    "            if step > 0:\n",
    "                average_loss = average_loss / 2000\n",
    "            # The average loss is an estimate of the loss over the last 2000 batches.\n",
    "            print('Average loss at step %d: %f' % (step, average_loss))\n",
    "            average_loss = 0\n",
    "        # note that this is expensive (~20% slowdown if computed every 500 steps)\n",
    "        if step % 10000 == 0:\n",
    "            sim = similarity.eval()\n",
    "            for i in range(valid_size):\n",
    "                valid_word = reverse_dictionary[valid_examples[i]]\n",
    "                top_k = 8 # number of nearest neighbors\n",
    "                nearest = (-sim[i, :]).argsort()[1:top_k+1]\n",
    "                log = 'Nearest to %s:' % valid_word\n",
    "                for k in range(top_k):\n",
    "                    close_word = reverse_dictionary[nearest[k]]\n",
    "                    log = '%s %s,' % (log, close_word)\n",
    "                print(log)\n",
    "    final_embeddings = normalized_embeddings.eval()"
   ]
  },
  {
   "cell_type": "code",
   "execution_count": null,
   "metadata": {
    "cellView": "both",
    "colab": {
     "autoexec": {
      "startup": false,
      "wait_interval": 0
     }
    },
    "colab_type": "code",
    "collapsed": true,
    "id": "jjJXYA_XzV79"
   },
   "outputs": [],
   "source": [
    "num_points = 400\n",
    "\n",
    "tsne = TSNE(perplexity=30, n_components=2, init='pca', n_iter=5000)\n",
    "two_d_embeddings = tsne.fit_transform(final_embeddings[1:num_points+1, :])"
   ]
  },
  {
   "cell_type": "code",
   "execution_count": null,
   "metadata": {
    "cellView": "both",
    "colab": {
     "autoexec": {
      "startup": false,
      "wait_interval": 0
     },
     "output_extras": [
      {
       "item_id": 1
      }
     ]
    },
    "colab_type": "code",
    "collapsed": false,
    "executionInfo": {
     "elapsed": 4763,
     "status": "ok",
     "timestamp": 1445965465525,
     "user": {
      "color": "#1FA15D",
      "displayName": "Vincent Vanhoucke",
      "isAnonymous": false,
      "isMe": true,
      "permissionId": "05076109866853157986",
      "photoUrl": "//lh6.googleusercontent.com/-cCJa7dTDcgQ/AAAAAAAAAAI/AAAAAAAACgw/r2EZ_8oYer4/s50-c-k-no/photo.jpg",
      "sessionId": "2f1ffade4c9f20de",
      "userId": "102167687554210253930"
     },
     "user_tz": 420
    },
    "id": "o_e0D_UezcDe",
    "outputId": "df22e4a5-e8ec-4e5e-d384-c6cf37c68c34"
   },
   "outputs": [],
   "source": [
    "def plot(embeddings, labels):\n",
    "    assert embeddings.shape[0] >= len(labels), 'More labels than embeddings'\n",
    "    pylab.figure(figsize=(15,15))    # in inches\n",
    "    for i, label in enumerate(labels):\n",
    "        x, y = embeddings[i,:]\n",
    "        pylab.scatter(x, y)\n",
    "        pylab.annotate(label, xy=(x, y), xytext=(5, 2), textcoords='offset points',\n",
    "                                     ha='right', va='bottom')\n",
    "    pylab.show()\n",
    "\n",
    "words = [reverse_dictionary[i] for i in range(1, num_points+1)]\n",
    "plot(two_d_embeddings, words)"
   ]
  },
  {
   "cell_type": "markdown",
   "metadata": {
    "colab_type": "text",
    "id": "QB5EFrBnpNnc"
   },
   "source": [
    "---\n",
    "\n",
    "Problem\n",
    "-------\n",
    "\n",
    "An alternative to skip-gram is another Word2Vec model called [CBOW](http://arxiv.org/abs/1301.3781) (Continuous Bag of Words). In the CBOW model, instead of predicting a context word from a word vector, you predict a word from the sum of all the word vectors in its context. Implement and evaluate a CBOW model trained on the text8 dataset.\n",
    "\n",
    "---"
   ]
  }
 ],
 "metadata": {
  "colab": {
   "default_view": {},
   "name": "5_word2vec.ipynb",
   "provenance": [],
   "version": "0.3.2",
   "views": {}
  },
  "kernelspec": {
   "display_name": "Python 2",
   "language": "python",
   "name": "python2"
  },
  "language_info": {
   "codemirror_mode": {
    "name": "ipython",
    "version": 2
   },
   "file_extension": ".py",
   "mimetype": "text/x-python",
   "name": "python",
   "nbconvert_exporter": "python",
   "pygments_lexer": "ipython2",
   "version": "2.7.12"
  }
 },
 "nbformat": 4,
 "nbformat_minor": 0
}
