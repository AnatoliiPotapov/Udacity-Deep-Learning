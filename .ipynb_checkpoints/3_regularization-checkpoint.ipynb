{
 "cells": [
  {
   "cell_type": "markdown",
   "metadata": {
    "colab_type": "text",
    "deletable": true,
    "editable": true,
    "id": "kR-4eNdK6lYS"
   },
   "source": [
    "Deep Learning\n",
    "=============\n",
    "\n",
    "Assignment 3\n",
    "------------\n",
    "\n",
    "Previously in `2_fullyconnected.ipynb`, you trained a logistic regression and a neural network model.\n",
    "\n",
    "The goal of this assignment is to explore regularization techniques."
   ]
  },
  {
   "cell_type": "code",
   "execution_count": 1,
   "metadata": {
    "cellView": "both",
    "colab": {
     "autoexec": {
      "startup": false,
      "wait_interval": 0
     }
    },
    "colab_type": "code",
    "collapsed": false,
    "deletable": true,
    "editable": true,
    "id": "JLpLa8Jt7Vu4"
   },
   "outputs": [],
   "source": [
    "# These are all the modules we'll be using later. Make sure you can import them\n",
    "# before proceeding further.\n",
    "from __future__ import print_function\n",
    "import numpy as np\n",
    "import tensorflow as tf\n",
    "from six.moves import cPickle as pickle\n",
    "import matplotlib.pyplot as plt\n",
    "\n",
    "# Config the matplotlib backend as plotting inline in IPython\n",
    "%matplotlib inline"
   ]
  },
  {
   "cell_type": "markdown",
   "metadata": {
    "colab_type": "text",
    "deletable": true,
    "editable": true,
    "id": "1HrCK6e17WzV"
   },
   "source": [
    "First reload the data we generated in `1_notmnist.ipynb`."
   ]
  },
  {
   "cell_type": "code",
   "execution_count": 2,
   "metadata": {
    "cellView": "both",
    "colab": {
     "autoexec": {
      "startup": false,
      "wait_interval": 0
     },
     "output_extras": [
      {
       "item_id": 1
      }
     ]
    },
    "colab_type": "code",
    "collapsed": false,
    "deletable": true,
    "editable": true,
    "executionInfo": {
     "elapsed": 11777,
     "status": "ok",
     "timestamp": 1449849322348,
     "user": {
      "color": "",
      "displayName": "",
      "isAnonymous": false,
      "isMe": true,
      "permissionId": "",
      "photoUrl": "",
      "sessionId": "0",
      "userId": ""
     },
     "user_tz": 480
    },
    "id": "y3-cj1bpmuxc",
    "outputId": "e03576f1-ebbe-4838-c388-f1777bcc9873"
   },
   "outputs": [
    {
     "name": "stdout",
     "output_type": "stream",
     "text": [
      "Training set (200000, 28, 28) (200000,)\n",
      "Validation set (10000, 28, 28) (10000,)\n",
      "Test set (10000, 28, 28) (10000,)\n"
     ]
    }
   ],
   "source": [
    "pickle_file = 'notMNIST.pickle'\n",
    "\n",
    "with open(pickle_file, 'rb') as f:\n",
    "    save = pickle.load(f)\n",
    "    train_dataset = save['train_dataset']\n",
    "    train_labels = save['train_labels']\n",
    "    valid_dataset = save['valid_dataset']\n",
    "    valid_labels = save['valid_labels']\n",
    "    test_dataset = save['test_dataset']\n",
    "    test_labels = save['test_labels']\n",
    "    del save    # hint to help gc free up memory\n",
    "    print('Training set', train_dataset.shape, train_labels.shape)\n",
    "    print('Validation set', valid_dataset.shape, valid_labels.shape)\n",
    "    print('Test set', test_dataset.shape, test_labels.shape)"
   ]
  },
  {
   "cell_type": "markdown",
   "metadata": {
    "colab_type": "text",
    "deletable": true,
    "editable": true,
    "id": "L7aHrm6nGDMB"
   },
   "source": [
    "Reformat into a shape that's more adapted to the models we're going to train:\n",
    "- data as a flat matrix,\n",
    "- labels as float 1-hot encodings."
   ]
  },
  {
   "cell_type": "code",
   "execution_count": 3,
   "metadata": {
    "cellView": "both",
    "colab": {
     "autoexec": {
      "startup": false,
      "wait_interval": 0
     },
     "output_extras": [
      {
       "item_id": 1
      }
     ]
    },
    "colab_type": "code",
    "collapsed": false,
    "deletable": true,
    "editable": true,
    "executionInfo": {
     "elapsed": 11728,
     "status": "ok",
     "timestamp": 1449849322356,
     "user": {
      "color": "",
      "displayName": "",
      "isAnonymous": false,
      "isMe": true,
      "permissionId": "",
      "photoUrl": "",
      "sessionId": "0",
      "userId": ""
     },
     "user_tz": 480
    },
    "id": "IRSyYiIIGIzS",
    "outputId": "3f8996ee-3574-4f44-c953-5c8a04636582"
   },
   "outputs": [
    {
     "name": "stdout",
     "output_type": "stream",
     "text": [
      "Training set (200000, 784) (200000, 10)\n",
      "Validation set (10000, 784) (10000, 10)\n",
      "Test set (10000, 784) (10000, 10)\n"
     ]
    }
   ],
   "source": [
    "image_size = 28\n",
    "num_labels = 10\n",
    "\n",
    "def reformat(dataset, labels):\n",
    "    dataset = dataset.reshape((-1, image_size * image_size)).astype(np.float32)\n",
    "    # Map 1 to [0.0, 1.0, 0.0 ...], 2 to [0.0, 0.0, 1.0 ...]\n",
    "    labels = (np.arange(num_labels) == labels[:,None]).astype(np.float32)\n",
    "    return dataset, labels\n",
    "\n",
    "train_dataset, train_labels = reformat(train_dataset, train_labels)\n",
    "valid_dataset, valid_labels = reformat(valid_dataset, valid_labels)\n",
    "test_dataset, test_labels = reformat(test_dataset, test_labels)\n",
    "\n",
    "print('Training set', train_dataset.shape, train_labels.shape)\n",
    "print('Validation set', valid_dataset.shape, valid_labels.shape)\n",
    "print('Test set', test_dataset.shape, test_labels.shape)"
   ]
  },
  {
   "cell_type": "markdown",
   "metadata": {
    "deletable": true,
    "editable": true
   },
   "source": [
    "Introduce helper function for calculating accuracy."
   ]
  },
  {
   "cell_type": "code",
   "execution_count": 4,
   "metadata": {
    "cellView": "both",
    "colab": {
     "autoexec": {
      "startup": false,
      "wait_interval": 0
     }
    },
    "colab_type": "code",
    "collapsed": true,
    "deletable": true,
    "editable": true,
    "id": "RajPLaL_ZW6w"
   },
   "outputs": [],
   "source": [
    "def accuracy(predictions, labels):\n",
    "    return (100.0 * np.sum(np.argmax(predictions, 1) == np.argmax(labels, 1))\n",
    "                    / predictions.shape[0])"
   ]
  },
  {
   "cell_type": "markdown",
   "metadata": {
    "deletable": true,
    "editable": true
   },
   "source": [
    "|Progress bar to visualize accuracy."
   ]
  },
  {
   "cell_type": "code",
   "execution_count": 5,
   "metadata": {
    "collapsed": false,
    "deletable": true,
    "editable": true
   },
   "outputs": [],
   "source": [
    "from ipywidgets import IntProgress\n",
    "from IPython.display import display\n",
    "\n",
    "def progress(max):\n",
    "    p = IntProgress(max = max)\n",
    "    p.description = 'Running'\n",
    "    display(p)\n",
    "    return p"
   ]
  },
  {
   "cell_type": "markdown",
   "metadata": {
    "colab_type": "text",
    "deletable": true,
    "editable": true,
    "id": "sgLbUAQ1CW-1"
   },
   "source": [
    "---\n",
    "Problem 1\n",
    "---------\n",
    "\n",
    "Introduce and tune L2 regularization for both logistic and neural network models. Remember that L2 amounts to adding a penalty on the norm of the weights to the loss. In TensorFlow, you can compute the L2 loss for a tensor `t` using `nn.l2_loss(t)`. The right amount of regularization should improve your validation / test accuracy.\n",
    "\n",
    "---"
   ]
  },
  {
   "cell_type": "markdown",
   "metadata": {
    "deletable": true,
    "editable": true
   },
   "source": [
    "# We will start with logistic model"
   ]
  },
  {
   "cell_type": "code",
   "execution_count": null,
   "metadata": {
    "collapsed": false,
    "deletable": true,
    "editable": true
   },
   "outputs": [],
   "source": [
    "l2_loss = 0.01\n",
    "batch_size = 128\n",
    "graph = tf.Graph()\n",
    "\n",
    "with graph.as_default():\n",
    "    # Input data. For the training data, we use a placeholder that will be fed\n",
    "    # at run time with a training minibatch.\n",
    "    tf_train_dataset = tf.placeholder(tf.float32, shape=(batch_size, image_size * image_size))\n",
    "    tf_train_labels = tf.placeholder(tf.float32, shape=(batch_size, num_labels))\n",
    "    tf_valid_dataset = tf.constant(valid_dataset)\n",
    "    tf_test_dataset = tf.constant(test_dataset)\n",
    "    tf_l2_loss = tf.placeholder(tf.float32)\n",
    "\n",
    "    # Variables.\n",
    "    weights = tf.Variable(\n",
    "        tf.truncated_normal([image_size * image_size, num_labels]))\n",
    "    biases = tf.Variable(tf.zeros([num_labels]))\n",
    "\n",
    "    # Training computation.\n",
    "    logits = tf.matmul(tf_train_dataset, weights) + biases\n",
    "    loss = tf.reduce_mean(\n",
    "        tf.nn.softmax_cross_entropy_with_logits(labels=tf_train_labels, logits=logits)) + tf_l2_loss * tf.nn.l2_loss(weights)\n",
    "\n",
    "    # Optimizer.\n",
    "    optimizer = tf.train.GradientDescentOptimizer(0.5).minimize(loss)\n",
    "\n",
    "    # Predictions for the training, validation, and test data.\n",
    "    train_prediction = tf.nn.softmax(logits)\n",
    "    valid_prediction = tf.nn.softmax(tf.matmul(tf_valid_dataset, weights) + biases)\n",
    "    test_prediction = tf.nn.softmax(tf.matmul(tf_test_dataset, weights) + biases)"
   ]
  },
  {
   "cell_type": "markdown",
   "metadata": {
    "deletable": true,
    "editable": true
   },
   "source": [
    "Let`s run it!"
   ]
  },
  {
   "cell_type": "code",
   "execution_count": null,
   "metadata": {
    "collapsed": false,
    "deletable": true,
    "editable": true
   },
   "outputs": [],
   "source": [
    "num_steps = 3001\n",
    "period_stat = 20\n",
    "\n",
    "def plot(history):\n",
    "    # summarize history for accuracy\n",
    "    plt.plot(history['steps'], history['minibatch'])\n",
    "    plt.plot(history['steps'], history['validation'])\n",
    "    plt.plot(history['steps'], history['test'])\n",
    "    plt.title('model accuracy')\n",
    "    plt.ylabel('accuracy')\n",
    "    plt.xlabel('epoch')\n",
    "    plt.legend(['minibatch', 'validation', 'test'], loc='upper left')\n",
    "    plt.show()\n",
    "\n",
    "def train_logistic(l2_loss):\n",
    "    print(\"Trainitng model with L2 regularization: %f\" % l2_loss)\n",
    "    history = {\n",
    "        'minibatch' : [],\n",
    "        'validation' : [],\n",
    "        'test' : [],\n",
    "        'steps' : []\n",
    "    }\n",
    "\n",
    "    with tf.Session(graph=graph) as session:\n",
    "        tf.global_variables_initializer().run()\n",
    "        print(\"Initialized\")\n",
    "        for step in range(num_steps):\n",
    "\n",
    "            # Pick an offset within the training data, which has been randomized.\n",
    "            offset = (step * batch_size) % (train_labels.shape[0] - batch_size)\n",
    "\n",
    "            # Generate a minibatch.\n",
    "            batch_data = train_dataset[offset:(offset + batch_size), :]\n",
    "            batch_labels = train_labels[offset:(offset + batch_size), :]\n",
    "\n",
    "            # Prepare a dictionary telling the session where to feed the minibatch.\n",
    "            feed_dict = {tf_train_dataset : batch_data, tf_train_labels : batch_labels, tf_l2_loss: l2_loss}\n",
    "            _, l, predictions = session.run([optimizer, loss, train_prediction], feed_dict=feed_dict)\n",
    "\n",
    "            if (step % period_stat == 0):\n",
    "                history[\"steps\"].append(step)\n",
    "                history[\"validation\"].append(accuracy(valid_prediction.eval(), valid_labels))\n",
    "                history[\"minibatch\"].append(accuracy(predictions, batch_labels))\n",
    "                history[\"test\"].append(accuracy(test_prediction.eval(), test_labels))\n",
    "\n",
    "        plot(history)\n",
    "        print(\"Test accuracy: %.1f%%\" % accuracy(test_prediction.eval(), test_labels))\n",
    "\n",
    "try_loss = [0.0001, 0.001, 0.01, 0.03, 0.1, 0.3]\n",
    "for l2_loss in try_loss:\n",
    "    train_logistic(l2_loss)"
   ]
  },
  {
   "cell_type": "markdown",
   "metadata": {
    "deletable": true,
    "editable": true
   },
   "source": [
    "## Let's create a neural network with one hidden layer, RELU nonlinearity and optional l2 regularization and dropout."
   ]
  },
  {
   "cell_type": "markdown",
   "metadata": {
    "deletable": true,
    "editable": true
   },
   "source": [
    "Create tensorflow graph."
   ]
  },
  {
   "cell_type": "code",
   "execution_count": 6,
   "metadata": {
    "collapsed": false,
    "deletable": true,
    "editable": true
   },
   "outputs": [],
   "source": [
    "hidden_nodes = 1024\n",
    "batch_size = 128\n",
    "\n",
    "nn_with_hidden_layer = tf.Graph()\n",
    "\n",
    "with nn_with_hidden_layer.as_default():\n",
    "    \n",
    "    # Input data\n",
    "    tf_train_dataset = tf.placeholder(tf.float32, shape=(batch_size, image_size * image_size))\n",
    "    tf_train_labels = tf.placeholder(tf.float32, shape=(batch_size, num_labels))\n",
    "    tf_valid_dataset = tf.constant(valid_dataset)\n",
    "    tf_test_dataset = tf.constant(test_dataset)\n",
    "    l2 = tf.placeholder(tf.float32)\n",
    "    p_dropout = tf.placeholder(tf.float32)\n",
    "    \n",
    "    # Variables\n",
    "    \n",
    "    # 1st layer\n",
    "    w1 = tf.Variable(\n",
    "        tf.truncated_normal([image_size * image_size, hidden_nodes]))\n",
    "    b1 = tf.Variable(tf.zeros([hidden_nodes]))\n",
    "    \n",
    "    # hidden layer\n",
    "    w2 = tf.Variable(\n",
    "        tf.truncated_normal([hidden_nodes, num_labels]))\n",
    "    b2 = tf.Variable(tf.zeros([num_labels]))\n",
    "    \n",
    "    def model(X):\n",
    "        # Add layer name scopes for better graph visualization\n",
    "        with tf.name_scope(\"input_layer\"):\n",
    "            h = tf.nn.relu(tf.matmul(X, w1) + b1)\n",
    "        with tf.name_scope(\"hidden_layer\"):\n",
    "            h = tf.nn.dropout(h, p_dropout)\n",
    "            h2 = tf.matmul(h, w2) + b2\n",
    "            return(h2)\n",
    "    \n",
    "    logits = model(tf_train_dataset)\n",
    "    \n",
    "    # Training computation\n",
    "    loss = tf.reduce_mean(\n",
    "        tf.nn.softmax_cross_entropy_with_logits(labels=tf_train_labels, logits=logits)\n",
    "    ) + l2 * tf.nn.l2_loss(w1) + l2 * tf.nn.l2_loss(w2)\n",
    "    \n",
    "    # Optimizer.\n",
    "    optimizer = tf.train.GradientDescentOptimizer(0.5).minimize(loss)\n",
    "    \n",
    "    # Predictions for the training, validation, and test data.\n",
    "    train_prediction = tf.nn.softmax(logits)\n",
    "    valid_prediction = tf.nn.softmax(model(tf_valid_dataset))\n",
    "    test_prediction = tf.nn.softmax(model(tf_test_dataset))"
   ]
  },
  {
   "cell_type": "markdown",
   "metadata": {
    "deletable": true,
    "editable": true
   },
   "source": [
    "Create training function."
   ]
  },
  {
   "cell_type": "code",
   "execution_count": 31,
   "metadata": {
    "collapsed": false,
    "deletable": true,
    "editable": true
   },
   "outputs": [],
   "source": [
    "num_steps = 3001\n",
    "period_stat = 500\n",
    "\n",
    "def train_neural_n(l2_reg, dropout, stats = False, restrict_num_batches = False):\n",
    "    \n",
    "    print(\"Starting training with parameters: l2_reg: {0}, dropout: {1}\".format(l2_reg, dropout))\n",
    "    p = progress(num_steps)\n",
    "    \n",
    "    # Can vary the amount of training batches.\n",
    "    max_offset = train_labels.shape[0]\n",
    "    if (restrict_num_batches != False):\n",
    "        max_offset = restrict_num_batches * batch_size\n",
    "    \n",
    "    with tf.Session(graph=nn_with_hidden_layer) as session:\n",
    "        tf.global_variables_initializer().run()\n",
    "        for step in range(num_steps):\n",
    "\n",
    "            # Pick an offset within the training data, which has been randomized.\n",
    "            offset = (step * batch_size) % (max_offset - batch_size)\n",
    "\n",
    "            # Generae minibatch.\n",
    "            batch_data = train_dataset[offset:(offset + batch_size), :]\n",
    "            batch_labels = train_labels[offset:(offset + batch_size), :]\n",
    "\n",
    "            # Dictionaries to pass to session.\n",
    "            train_d = {tf_train_dataset : batch_data, tf_train_labels : batch_labels, l2: l2_reg, p_dropout: dropout}\n",
    "            stat_d = {tf_train_dataset : batch_data, tf_train_labels : batch_labels, l2: l2_reg, p_dropout: 1.0}\n",
    "            \n",
    "            _ = session.run(optimizer, feed_dict=train_d)\n",
    "            \n",
    "            p.value = step\n",
    "            \n",
    "            if (step % period_stat == 0) & (stats == True):\n",
    "                l, train_pred, valid_pred = session.run([loss, train_prediction, valid_prediction], feed_dict=stat_d)\n",
    "                print(\n",
    "                    \"Step {0}: \\n loss: {1} \\n minibatch acc: {2}% \\n validation acc: {3}% \\n\".format(\n",
    "                        step,\n",
    "                        l,\n",
    "                        accuracy(train_pred, batch_labels),\n",
    "                        accuracy(valid_pred, valid_labels)\n",
    "                    )\n",
    "                )\n",
    "        \n",
    "        test_pred = session.run(test_prediction, feed_dict=stat_d)\n",
    "        valid_pred = session.run(valid_prediction, feed_dict=stat_d) \n",
    "        \n",
    "        print(\"Accuracy on validation dataset: %.1f%% \\n\" % accuracy(valid_pred, valid_labels))\n",
    "        return([accuracy(valid_pred, valid_labels), accuracy(test_pred, test_labels)])"
   ]
  },
  {
   "cell_type": "markdown",
   "metadata": {},
   "source": [
    "We explore different amounts of l2 regularization and select model with the best validation dataset accuracy.  "
   ]
  },
  {
   "cell_type": "code",
   "execution_count": 18,
   "metadata": {
    "collapsed": false,
    "deletable": true,
    "editable": true
   },
   "outputs": [
    {
     "name": "stdout",
     "output_type": "stream",
     "text": [
      "Staring training with parameters: l2_reg: 0.0001, dropout: 0.0\n",
      "Accuracy on validation dataset: 82.6% \n",
      "\n",
      "Staring training with parameters: l2_reg: 0.0003, dropout: 0.0\n",
      "Accuracy on validation dataset: 82.9% \n",
      "\n",
      "Staring training with parameters: l2_reg: 0.001, dropout: 0.0\n",
      "Accuracy on validation dataset: 87.1% \n",
      "\n",
      "Staring training with parameters: l2_reg: 0.003, dropout: 0.0\n",
      "Accuracy on validation dataset: 86.2% \n",
      "\n",
      "Staring training with parameters: l2_reg: 0.01, dropout: 0.0\n",
      "Accuracy on validation dataset: 83.5% \n",
      "\n",
      "Staring training with parameters: l2_reg: 0.03, dropout: 0.0\n",
      "Accuracy on validation dataset: 81.1% \n",
      "\n",
      "Staring training with parameters: l2_reg: 0.1, dropout: 0.0\n",
      "Accuracy on validation dataset: 75.8% \n",
      "\n",
      "Staring training with parameters: l2_reg: 0.3, dropout: 0.0\n",
      "Accuracy on validation dataset: 56.2% \n",
      "\n",
      "Best level of l2 regularization: 0.001\n",
      "Accuracy on test dataset: 93.29%\n"
     ]
    }
   ],
   "source": [
    "try_l2 = [0.0001, 0.0003, 0.001, 0.003, 0.01, 0.03, 0.1, 0.3]\n",
    "valid_acc = []\n",
    "test_acc = []\n",
    "for l2_reg in try_l2:\n",
    "    v, t = train_neural_n(l2_reg, dropout = 1.0)\n",
    "    valid_acc.append(v)\n",
    "    test_acc.append(t)\n",
    "\n",
    "best_l2 = np.array(valid_acc).argmax()\n",
    "print(\"Best level of l2 regularization: {0}\".format(try_l2[best_l2]))\n",
    "print(\"Accuracy on test dataset: {0}%\".format(test_acc[best_l2]))"
   ]
  },
  {
   "cell_type": "markdown",
   "metadata": {
    "colab_type": "text",
    "deletable": true,
    "editable": true,
    "id": "na8xX2yHZzNF"
   },
   "source": [
    "---\n",
    "Problem 2\n",
    "---------\n",
    "Let's demonstrate an extreme case of overfitting. Restrict your training data to just a few batches. What happens?\n",
    "\n",
    "---"
   ]
  },
  {
   "cell_type": "code",
   "execution_count": 24,
   "metadata": {
    "collapsed": false,
    "deletable": true,
    "editable": true
   },
   "outputs": [
    {
     "name": "stdout",
     "output_type": "stream",
     "text": [
      "Staring training with parameters: l2_reg: 0.0, dropout: 1.0\n",
      "Accuracy on validation dataset: 76.2% \n",
      "\n",
      "Accuracy on validation dataset: 76.24%\n",
      "Accuracy on test dataset: 83.24%\n"
     ]
    }
   ],
   "source": [
    "v, t = train_neural_n(l2_reg = 0.0, dropout = 1.0, restrict_num_batches = 5)\n",
    "print(\"Accuracy on validation dataset: {0}%\".format(v))\n",
    "print(\"Accuracy on test dataset: {0}%\".format(t))"
   ]
  },
  {
   "cell_type": "markdown",
   "metadata": {
    "colab_type": "text",
    "deletable": true,
    "editable": true,
    "id": "ww3SCBUdlkRc"
   },
   "source": [
    "---\n",
    "Problem 3\n",
    "---------\n",
    "Introduce Dropout on the hidden layer of the neural network. Remember: Dropout should only be introduced during training, not evaluation, otherwise your evaluation results would be stochastic as well. TensorFlow provides `nn.dropout()` for that, but you have to make sure it's only inserted during training.\n",
    "\n",
    "What happens to our extreme overfitting case?\n",
    "\n",
    "---"
   ]
  },
  {
   "cell_type": "code",
   "execution_count": 30,
   "metadata": {
    "collapsed": false
   },
   "outputs": [
    {
     "name": "stdout",
     "output_type": "stream",
     "text": [
      "Starting training with parameters: l2_reg: 0.0, dropout: 1.0\n",
      "Accuracy on validation dataset: 82.4% \n",
      "\n",
      "Starting training with parameters: l2_reg: 0.0, dropout: 0.9\n",
      "Accuracy on validation dataset: 80.9% \n",
      "\n",
      "Starting training with parameters: l2_reg: 0.0, dropout: 0.8\n",
      "Accuracy on validation dataset: 80.2% \n",
      "\n",
      "Starting training with parameters: l2_reg: 0.0, dropout: 0.7\n",
      "Accuracy on validation dataset: 78.5% \n",
      "\n",
      "Starting training with parameters: l2_reg: 0.0, dropout: 0.6\n",
      "Accuracy on validation dataset: 75.9% \n",
      "\n",
      "Starting training with parameters: l2_reg: 0.0, dropout: 0.5\n",
      "Accuracy on validation dataset: 73.0% \n",
      "\n",
      "Starting training with parameters: l2_reg: 0.0, dropout: 0.4\n",
      "Accuracy on validation dataset: 69.9% \n",
      "\n",
      "Best level of dropout: 1.0\n",
      "Accuracy on test dataset: 89.05%\n"
     ]
    }
   ],
   "source": [
    "try_dropout = [1.0, 0.9, 0.8, 0.7, 0.6, 0.5, 0.4]\n",
    "valid_acc = []\n",
    "test_acc = []\n",
    "for dropout in try_dropout:\n",
    "    v, t = train_neural_n(0.0, dropout)\n",
    "    valid_acc.append(v)\n",
    "    test_acc.append(t)\n",
    "\n",
    "best_dropout = np.array(valid_acc).argmax()\n",
    "print(\"Best level of dropout: {0}\".format(try_dropout[best_dropout]))\n",
    "print(\"Accuracy on test dataset: {0}%\".format(test_acc[best_dropout]))"
   ]
  },
  {
   "cell_type": "code",
   "execution_count": 28,
   "metadata": {
    "collapsed": false
   },
   "outputs": [
    {
     "name": "stdout",
     "output_type": "stream",
     "text": [
      "[89.44, 88.1, 88.76, 88.2, 87.71, 86.08, 85.92]\n"
     ]
    }
   ],
   "source": [
    "print(test_acc)"
   ]
  },
  {
   "cell_type": "code",
   "execution_count": 25,
   "metadata": {
    "collapsed": false,
    "deletable": true,
    "editable": true
   },
   "outputs": [
    {
     "name": "stdout",
     "output_type": "stream",
     "text": [
      "Staring training with parameters: l2_reg: 0.0, dropout: 0.8\n",
      "Accuracy on validation dataset: 77.6% \n",
      "\n",
      "Accuracy on validation dataset: 77.58%\n",
      "Accuracy on test dataset: 84.69%\n"
     ]
    }
   ],
   "source": [
    "v, t = train_neural_n(l2_reg = 0.0, dropout = 0.8, restrict_num_batches = 5)\n",
    "print(\"Accuracy on validation dataset: {0}%\".format(v))\n",
    "print(\"Accuracy on test dataset: {0}%\".format(t))"
   ]
  },
  {
   "cell_type": "markdown",
   "metadata": {
    "colab_type": "text",
    "deletable": true,
    "editable": true,
    "id": "-b1hTz3VWZjw"
   },
   "source": [
    "---\n",
    "Problem 4\n",
    "---------\n",
    "\n",
    "Try to get the best performance you can using a multi-layer model! The best reported test accuracy using a deep network is [97.1%](http://yaroslavvb.blogspot.com/2011/09/notmnist-dataset.html?showComment=1391023266211#c8758720086795711595).\n",
    "\n",
    "One avenue you can explore is to add multiple layers.\n",
    "\n",
    "Another one is to use learning rate decay:\n",
    "\n",
    "        global_step = tf.Variable(0)    # count the number of steps taken.\n",
    "        learning_rate = tf.train.exponential_decay(0.5, global_step, ...)\n",
    "        optimizer = tf.train.GradientDescentOptimizer(learning_rate).minimize(loss, global_step=global_step)\n",
    " \n",
    " ---\n"
   ]
  },
  {
   "cell_type": "code",
   "execution_count": null,
   "metadata": {
    "collapsed": true,
    "deletable": true,
    "editable": true
   },
   "outputs": [],
   "source": []
  }
 ],
 "metadata": {
  "colab": {
   "default_view": {},
   "name": "3_regularization.ipynb",
   "provenance": [],
   "version": "0.3.2",
   "views": {}
  },
  "kernelspec": {
   "display_name": "Python 2",
   "language": "python",
   "name": "python2"
  },
  "language_info": {
   "codemirror_mode": {
    "name": "ipython",
    "version": 2
   },
   "file_extension": ".py",
   "mimetype": "text/x-python",
   "name": "python",
   "nbconvert_exporter": "python",
   "pygments_lexer": "ipython2",
   "version": "2.7.12"
  },
  "widgets": {
   "state": {
    "08c784ecf64949eabea8189dacc7d4a5": {
     "views": [
      {
       "cell_index": 21
      }
     ]
    },
    "08e3d91ba9f040a0a2ad6a0b08ea5301": {
     "views": [
      {
       "cell_index": 21
      }
     ]
    },
    "0c9a3b16bc214fbfb676267073da50d1": {
     "views": [
      {
       "cell_index": 25
      }
     ]
    },
    "15ce5338057f4109bc1d4fece86ab100": {
     "views": [
      {
       "cell_index": 20
      }
     ]
    },
    "161494f41fbd48c8b9a8eb948430be73": {
     "views": [
      {
       "cell_index": 19
      }
     ]
    },
    "1e18a4f7c4ce40c8bc3ffb273c8de0ed": {
     "views": [
      {
       "cell_index": 25
      }
     ]
    },
    "1f30cb2d432e43bca88da46c8fb9ff55": {
     "views": [
      {
       "cell_index": 25
      }
     ]
    },
    "265577fdd15c444086751d0cf6ef76ca": {
     "views": [
      {
       "cell_index": 19
      }
     ]
    },
    "43c9488f53484eeb9d39cea247c71320": {
     "views": [
      {
       "cell_index": 25
      }
     ]
    },
    "4984db975f764f9881306015b60ecbc6": {
     "views": [
      {
       "cell_index": 21
      }
     ]
    },
    "4ff5f9a748a54e359e8044fed098aa43": {
     "views": [
      {
       "cell_index": 19
      }
     ]
    },
    "614de90bfa6746a695f97cae224c1087": {
     "views": [
      {
       "cell_index": 21
      }
     ]
    },
    "63cf3317b9cf4b16b8299f14ba77165f": {
     "views": [
      {
       "cell_index": 21
      }
     ]
    },
    "6490269a16f14c3e99274ad74b0df98f": {
     "views": [
      {
       "cell_index": 21
      }
     ]
    },
    "6650b571ab8749128e72b3988de0c14f": {
     "views": [
      {
       "cell_index": 20
      }
     ]
    },
    "6905654b31d5438e8e5207c985e2d3c9": {
     "views": [
      {
       "cell_index": 20
      }
     ]
    },
    "694d8eae2630483e8d1c2e646a7ba1ee": {
     "views": [
      {
       "cell_index": 25
      }
     ]
    },
    "6c3e76cb6f90413bbabf98c8802517f0": {
     "views": [
      {
       "cell_index": 19
      }
     ]
    },
    "7d0daa42ae424d5a9a146105d24b5fb1": {
     "views": [
      {
       "cell_index": 20
      }
     ]
    },
    "7dee8208e5854fda9af5502339bdca0a": {
     "views": [
      {
       "cell_index": 20
      }
     ]
    },
    "7e825b05a74d4c70969205b0896c5a8d": {
     "views": [
      {
       "cell_index": 25
      }
     ]
    },
    "808996c44df74df089bcc79995dd29a0": {
     "views": [
      {
       "cell_index": 21
      }
     ]
    },
    "8697e8900e8147d4bada39c07d8516d3": {
     "views": [
      {
       "cell_index": 25
      }
     ]
    },
    "8d2bdbbc88aa4fd1ab2aab556be6d11c": {
     "views": [
      {
       "cell_index": 21
      }
     ]
    },
    "969984c605874f22a378d0fcf08c81f8": {
     "views": [
      {
       "cell_index": 21
      }
     ]
    },
    "97e9e9a9f4e641899223ad0b0664b561": {
     "views": [
      {
       "cell_index": 25
      }
     ]
    },
    "9b8e393b9ac94ad0807ed589a1715ad4": {
     "views": [
      {
       "cell_index": 20
      }
     ]
    },
    "a2bdc2dd94b547298c67446d75519af7": {
     "views": [
      {
       "cell_index": 19
      }
     ]
    },
    "a59e77a82ad84bc1be4032361c5b9929": {
     "views": [
      {
       "cell_index": 19
      }
     ]
    },
    "b2efe66061214c28b03df213e21f675c": {
     "views": [
      {
       "cell_index": 20
      }
     ]
    },
    "b3a2c4c48cd14e27885292c2579d78c4": {
     "views": [
      {
       "cell_index": 21
      }
     ]
    },
    "b9068631013a4559a4c5a5004c743b7d": {
     "views": [
      {
       "cell_index": 19
      }
     ]
    },
    "b9a90f4063394e998050541642a05dbb": {
     "views": [
      {
       "cell_index": 25
      }
     ]
    },
    "bde4de0efebe40f8b2d033de1d7cc482": {
     "views": [
      {
       "cell_index": 19
      }
     ]
    },
    "bf3397b96c0842beb4cb58ddb3f9d3dc": {
     "views": [
      {
       "cell_index": 25
      }
     ]
    },
    "c3894ac85c2746f6bd0943f495edb7d9": {
     "views": [
      {
       "cell_index": 19
      }
     ]
    },
    "c741fd66db3e44648d41028d7d75aeca": {
     "views": [
      {
       "cell_index": 19
      }
     ]
    },
    "d38fda2bdc0c40f29838412f777b8254": {
     "views": [
      {
       "cell_index": 21
      }
     ]
    },
    "d5446095efb14fecad992fa153d237ea": {
     "views": [
      {
       "cell_index": 20
      }
     ]
    },
    "d6edcfa8d89a4777bf8d65fed215cd7a": {
     "views": [
      {
       "cell_index": 23
      }
     ]
    },
    "d87b32317329487a8f060cd9faf79907": {
     "views": [
      {
       "cell_index": 25
      }
     ]
    },
    "f4f26ca78d494138b9d5545421c8a049": {
     "views": [
      {
       "cell_index": 21
      }
     ]
    }
   },
   "version": "1.2.0"
  }
 },
 "nbformat": 4,
 "nbformat_minor": 0
}
